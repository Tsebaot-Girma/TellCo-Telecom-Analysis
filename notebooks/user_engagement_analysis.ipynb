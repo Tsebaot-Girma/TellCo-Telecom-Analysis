{
 "cells": [
  {
   "cell_type": "code",
   "execution_count": 46,
   "metadata": {},
   "outputs": [
    {
     "name": "stdout",
     "output_type": "stream",
     "text": [
      "The autoreload extension is already loaded. To reload it, use:\n",
      "  %reload_ext autoreload\n"
     ]
    }
   ],
   "source": [
    "%load_ext autoreload\n",
    "\n",
    "from dotenv import load_dotenv\n",
    "import pandas as pd\n",
    "import matplotlib.pyplot as plt\n",
    "import seaborn as sns\n",
    "import numpy as np\n",
    "import os\n",
    "import sys\n",
    "sys.path.append(\"../scripts/\")  # Add the scripts folder to the path\n",
    "from load_data import load_data_from_postgres, load_data_using_sqlalchemy\n",
    "from data_preprocessing import clean_data, handle_outliers\n",
    "from data_transform import convert_bytes_to_mb, rename_columns\n",
    "from engagement_metrics import calculate_engagement_metrics, normalize_metrics, top_customers\n",
    "from clustering import perform_kmeans_clustering, elbow_method, cluster_statistics, apply_kmeans_clustering\n",
    "from traffic_analysis import aggregate_top_users_per_application\n",
    "from visualizations import plot_top_3_applications, visualize_clusters"
   ]
  },
  {
   "cell_type": "code",
   "execution_count": 4,
   "metadata": {},
   "outputs": [],
   "source": [
    "# Load environment variables from .env file\n",
    "load_dotenv()\n",
    "\n",
    "# Fetch database connection parameters from environment variables\n",
    "DB_HOST = os.getenv(\"DB_HOST\")\n",
    "DB_PORT = os.getenv(\"DB_PORT\")\n",
    "DB_NAME = os.getenv(\"DB_NAME\")\n",
    "DB_USER = os.getenv(\"DB_USER\")\n",
    "DB_PASSWORD = os.getenv(\"DB_PASSWORD\")"
   ]
  },
  {
   "cell_type": "code",
   "execution_count": 5,
   "metadata": {},
   "outputs": [
    {
     "name": "stdout",
     "output_type": "stream",
     "text": [
      "Successfully loaded the data\n"
     ]
    }
   ],
   "source": [
    "# Define your SQL query\n",
    "query = \"SELECT * FROM xdr_data;\"\n",
    "\n",
    "# Load data from PostgreSQL using SQLAlchemy\n",
    "df = load_data_using_sqlalchemy(query)\n",
    "\n",
    "# Display the first few rows of the dataframe\n",
    "if df is not None:\n",
    "    print(\"Successfully loaded the data\")\n",
    "else:\n",
    "    print(\"Failed to load data.\")"
   ]
  },
  {
   "cell_type": "code",
   "execution_count": 6,
   "metadata": {},
   "outputs": [
    {
     "name": "stdout",
     "output_type": "stream",
     "text": [
      "<class 'pandas.core.frame.DataFrame'>\n",
      "Index: 148488 entries, 0 to 149999\n",
      "Data columns (total 44 columns):\n",
      " #   Column                          Non-Null Count   Dtype         \n",
      "---  ------                          --------------   -----         \n",
      " 0   Bearer Id                       148488 non-null  object        \n",
      " 1   Start                           148488 non-null  datetime64[ns]\n",
      " 2   Start ms                        148488 non-null  float64       \n",
      " 3   End                             148488 non-null  datetime64[ns]\n",
      " 4   End ms                          148488 non-null  float64       \n",
      " 5   IMSI                            148488 non-null  object        \n",
      " 6   MSISDN/Number                   148488 non-null  object        \n",
      " 7   IMEI                            148488 non-null  object        \n",
      " 8   Last Location Name              148488 non-null  category      \n",
      " 9   Avg RTT DL (ms)                 148488 non-null  float64       \n",
      " 10  Avg RTT UL (ms)                 148488 non-null  float64       \n",
      " 11  Avg Bearer TP DL (kbps)         148488 non-null  float64       \n",
      " 12  Avg Bearer TP UL (kbps)         148488 non-null  float64       \n",
      " 13  DL TP < 50 Kbps (%)             148488 non-null  float64       \n",
      " 14  50 Kbps < DL TP < 250 Kbps (%)  148488 non-null  float64       \n",
      " 15  250 Kbps < DL TP < 1 Mbps (%)   148488 non-null  float64       \n",
      " 16  DL TP > 1 Mbps (%)              148488 non-null  float64       \n",
      " 17  UL TP < 10 Kbps (%)             148488 non-null  float64       \n",
      " 18  10 Kbps < UL TP < 50 Kbps (%)   148488 non-null  float64       \n",
      " 19  50 Kbps < UL TP < 300 Kbps (%)  148488 non-null  float64       \n",
      " 20  UL TP > 300 Kbps (%)            148488 non-null  float64       \n",
      " 21  Activity Duration DL (ms)       148488 non-null  float64       \n",
      " 22  Activity Duration UL (ms)       148488 non-null  float64       \n",
      " 23  Dur. (ms).1                     148488 non-null  float64       \n",
      " 24  Handset Manufacturer            148488 non-null  category      \n",
      " 25  Handset Type                    148488 non-null  category      \n",
      " 26  Nb of sec with Vol DL < 6250B   148488 non-null  float64       \n",
      " 27  Nb of sec with Vol UL < 1250B   148488 non-null  float64       \n",
      " 28  Social Media DL (Bytes)         148488 non-null  float64       \n",
      " 29  Social Media UL (Bytes)         148488 non-null  float64       \n",
      " 30  Google DL (Bytes)               148488 non-null  float64       \n",
      " 31  Google UL (Bytes)               148488 non-null  float64       \n",
      " 32  Email DL (Bytes)                148488 non-null  float64       \n",
      " 33  Email UL (Bytes)                148488 non-null  float64       \n",
      " 34  Youtube DL (Bytes)              148488 non-null  float64       \n",
      " 35  Youtube UL (Bytes)              148488 non-null  float64       \n",
      " 36  Netflix DL (Bytes)              148488 non-null  float64       \n",
      " 37  Netflix UL (Bytes)              148488 non-null  float64       \n",
      " 38  Gaming DL (Bytes)               148488 non-null  float64       \n",
      " 39  Gaming UL (Bytes)               148488 non-null  float64       \n",
      " 40  Other DL (Bytes)                148488 non-null  float64       \n",
      " 41  Other UL (Bytes)                148488 non-null  float64       \n",
      " 42  Total UL (Bytes)                148488 non-null  float64       \n",
      " 43  Total DL (Bytes)                148488 non-null  float64       \n",
      "dtypes: category(3), datetime64[ns](2), float64(35), object(4)\n",
      "memory usage: 50.1+ MB\n",
      "None\n",
      "Bearer Id                         0\n",
      "Start                             0\n",
      "Start ms                          0\n",
      "End                               0\n",
      "End ms                            0\n",
      "IMSI                              0\n",
      "MSISDN/Number                     0\n",
      "IMEI                              0\n",
      "Last Location Name                0\n",
      "Avg RTT DL (ms)                   0\n",
      "Avg RTT UL (ms)                   0\n",
      "Avg Bearer TP DL (kbps)           0\n",
      "Avg Bearer TP UL (kbps)           0\n",
      "DL TP < 50 Kbps (%)               0\n",
      "50 Kbps < DL TP < 250 Kbps (%)    0\n",
      "250 Kbps < DL TP < 1 Mbps (%)     0\n",
      "DL TP > 1 Mbps (%)                0\n",
      "UL TP < 10 Kbps (%)               0\n",
      "10 Kbps < UL TP < 50 Kbps (%)     0\n",
      "50 Kbps < UL TP < 300 Kbps (%)    0\n",
      "UL TP > 300 Kbps (%)              0\n",
      "Activity Duration DL (ms)         0\n",
      "Activity Duration UL (ms)         0\n",
      "Dur. (ms).1                       0\n",
      "Handset Manufacturer              0\n",
      "Handset Type                      0\n",
      "Nb of sec with Vol DL < 6250B     0\n",
      "Nb of sec with Vol UL < 1250B     0\n",
      "Social Media DL (Bytes)           0\n",
      "Social Media UL (Bytes)           0\n",
      "Google DL (Bytes)                 0\n",
      "Google UL (Bytes)                 0\n",
      "Email DL (Bytes)                  0\n",
      "Email UL (Bytes)                  0\n",
      "Youtube DL (Bytes)                0\n",
      "Youtube UL (Bytes)                0\n",
      "Netflix DL (Bytes)                0\n",
      "Netflix UL (Bytes)                0\n",
      "Gaming DL (Bytes)                 0\n",
      "Gaming UL (Bytes)                 0\n",
      "Other DL (Bytes)                  0\n",
      "Other UL (Bytes)                  0\n",
      "Total UL (Bytes)                  0\n",
      "Total DL (Bytes)                  0\n",
      "dtype: int64\n",
      "(148488, 44)\n"
     ]
    }
   ],
   "source": [
    "telecom_data = clean_data(df)\n",
    "print(telecom_data.info())\n",
    "print(telecom_data.isnull().sum())  # Ensure there are no missing values\n",
    "print(telecom_data.shape)          # Check the shape matches (148915, 44)\n"
   ]
  },
  {
   "cell_type": "code",
   "execution_count": 7,
   "metadata": {},
   "outputs": [],
   "source": [
    "# Select numeric columns\n",
    "numeric_columns = telecom_data.select_dtypes(include=['float64', 'int64']).columns\n",
    "\n",
    "# Treat outliers using the handle_outliers function\n",
    "telecom_data = handle_outliers(telecom_data, numeric_columns)\n"
   ]
  },
  {
   "cell_type": "code",
   "execution_count": 8,
   "metadata": {},
   "outputs": [
    {
     "name": "stdout",
     "output_type": "stream",
     "text": [
      "Index(['Bearer Id', 'Start', 'Start ms', 'End', 'End ms', 'Dur. (ms)', 'IMSI',\n",
      "       'MSISDN/Number', 'IMEI', 'Last Location Name', 'Avg RTT DL (ms)',\n",
      "       'Avg RTT UL (ms)', 'Avg Bearer TP DL (kbps)', 'Avg Bearer TP UL (kbps)',\n",
      "       'TCP DL Retrans. Vol (Bytes)', 'TCP UL Retrans. Vol (Bytes)',\n",
      "       'DL TP < 50 Kbps (%)', '50 Kbps < DL TP < 250 Kbps (%)',\n",
      "       '250 Kbps < DL TP < 1 Mbps (%)', 'DL TP > 1 Mbps (%)',\n",
      "       'UL TP < 10 Kbps (%)', '10 Kbps < UL TP < 50 Kbps (%)',\n",
      "       '50 Kbps < UL TP < 300 Kbps (%)', 'UL TP > 300 Kbps (%)',\n",
      "       'HTTP DL (Bytes)', 'HTTP UL (Bytes)', 'Activity Duration DL (ms)',\n",
      "       'Activity Duration UL (ms)', 'Dur. (ms).1', 'Handset Manufacturer',\n",
      "       'Handset Type', 'Nb of sec with 125000B < Vol DL',\n",
      "       'Nb of sec with 1250B < Vol UL < 6250B',\n",
      "       'Nb of sec with 31250B < Vol DL < 125000B',\n",
      "       'Nb of sec with 37500B < Vol UL',\n",
      "       'Nb of sec with 6250B < Vol DL < 31250B',\n",
      "       'Nb of sec with 6250B < Vol UL < 37500B',\n",
      "       'Nb of sec with Vol DL < 6250B', 'Nb of sec with Vol UL < 1250B',\n",
      "       'Social Media DL (Bytes)', 'Social Media UL (Bytes)',\n",
      "       'Google DL (Bytes)', 'Google UL (Bytes)', 'Email DL (Bytes)',\n",
      "       'Email UL (Bytes)', 'Youtube DL (Bytes)', 'Youtube UL (Bytes)',\n",
      "       'Netflix DL (Bytes)', 'Netflix UL (Bytes)', 'Gaming DL (Bytes)',\n",
      "       'Gaming UL (Bytes)', 'Other DL (Bytes)', 'Other UL (Bytes)',\n",
      "       'Total UL (Bytes)', 'Total DL (Bytes)'],\n",
      "      dtype='object')\n"
     ]
    }
   ],
   "source": [
    "# Define the renaming dictionary\n",
    "rename_dict = {'Dur. (ms).1': 'Dur. (ms)'}\n",
    "\n",
    "# Rename columns using the rename_columns function\n",
    "telecom_data = rename_columns(telecom_data, rename_dict)\n",
    "\n",
    "# Verify the column names\n",
    "print(df.columns)\n"
   ]
  },
  {
   "cell_type": "code",
   "execution_count": 33,
   "metadata": {},
   "outputs": [
    {
     "name": "stdout",
     "output_type": "stream",
     "text": [
      "Engagement Metrics:\n"
     ]
    },
    {
     "data": {
      "text/html": [
       "<div>\n",
       "<style scoped>\n",
       "    .dataframe tbody tr th:only-of-type {\n",
       "        vertical-align: middle;\n",
       "    }\n",
       "\n",
       "    .dataframe tbody tr th {\n",
       "        vertical-align: top;\n",
       "    }\n",
       "\n",
       "    .dataframe thead th {\n",
       "        text-align: right;\n",
       "    }\n",
       "</style>\n",
       "<table border=\"1\" class=\"dataframe\">\n",
       "  <thead>\n",
       "    <tr style=\"text-align: right;\">\n",
       "      <th></th>\n",
       "      <th>MSISDN/Number</th>\n",
       "      <th>session_frequency</th>\n",
       "      <th>session_duration</th>\n",
       "      <th>total_download_traffic</th>\n",
       "      <th>total_upload_traffic</th>\n",
       "      <th>total_traffic</th>\n",
       "    </tr>\n",
       "  </thead>\n",
       "  <tbody>\n",
       "    <tr>\n",
       "      <th>0</th>\n",
       "      <td>3.360100e+10</td>\n",
       "      <td>1</td>\n",
       "      <td>116720140.0</td>\n",
       "      <td>8.426375e+08</td>\n",
       "      <td>3.605311e+07</td>\n",
       "      <td>8.786906e+08</td>\n",
       "    </tr>\n",
       "    <tr>\n",
       "      <th>1</th>\n",
       "      <td>3.360100e+10</td>\n",
       "      <td>1</td>\n",
       "      <td>181230963.0</td>\n",
       "      <td>1.207552e+08</td>\n",
       "      <td>3.610446e+07</td>\n",
       "      <td>1.568596e+08</td>\n",
       "    </tr>\n",
       "    <tr>\n",
       "      <th>2</th>\n",
       "      <td>3.360100e+10</td>\n",
       "      <td>1</td>\n",
       "      <td>134969374.0</td>\n",
       "      <td>5.566597e+08</td>\n",
       "      <td>3.930682e+07</td>\n",
       "      <td>5.959665e+08</td>\n",
       "    </tr>\n",
       "    <tr>\n",
       "      <th>3</th>\n",
       "      <td>3.360101e+10</td>\n",
       "      <td>1</td>\n",
       "      <td>49878024.0</td>\n",
       "      <td>4.019932e+08</td>\n",
       "      <td>2.032753e+07</td>\n",
       "      <td>4.223207e+08</td>\n",
       "    </tr>\n",
       "    <tr>\n",
       "      <th>4</th>\n",
       "      <td>3.360101e+10</td>\n",
       "      <td>2</td>\n",
       "      <td>37104453.0</td>\n",
       "      <td>1.363130e+09</td>\n",
       "      <td>9.428053e+07</td>\n",
       "      <td>1.457411e+09</td>\n",
       "    </tr>\n",
       "    <tr>\n",
       "      <th>5</th>\n",
       "      <td>3.360101e+10</td>\n",
       "      <td>2</td>\n",
       "      <td>253983077.0</td>\n",
       "      <td>5.552080e+08</td>\n",
       "      <td>6.000925e+07</td>\n",
       "      <td>6.152172e+08</td>\n",
       "    </tr>\n",
       "    <tr>\n",
       "      <th>6</th>\n",
       "      <td>3.360101e+10</td>\n",
       "      <td>2</td>\n",
       "      <td>128360523.0</td>\n",
       "      <td>5.530412e+08</td>\n",
       "      <td>6.846015e+07</td>\n",
       "      <td>6.215014e+08</td>\n",
       "    </tr>\n",
       "    <tr>\n",
       "      <th>7</th>\n",
       "      <td>3.360101e+10</td>\n",
       "      <td>1</td>\n",
       "      <td>86399977.0</td>\n",
       "      <td>2.940851e+08</td>\n",
       "      <td>3.857528e+07</td>\n",
       "      <td>3.326604e+08</td>\n",
       "    </tr>\n",
       "    <tr>\n",
       "      <th>8</th>\n",
       "      <td>3.360101e+10</td>\n",
       "      <td>2</td>\n",
       "      <td>495702147.0</td>\n",
       "      <td>8.965602e+08</td>\n",
       "      <td>9.357202e+07</td>\n",
       "      <td>9.901322e+08</td>\n",
       "    </tr>\n",
       "    <tr>\n",
       "      <th>9</th>\n",
       "      <td>3.360102e+10</td>\n",
       "      <td>1</td>\n",
       "      <td>124854778.0</td>\n",
       "      <td>6.853728e+08</td>\n",
       "      <td>4.709101e+07</td>\n",
       "      <td>7.324638e+08</td>\n",
       "    </tr>\n",
       "  </tbody>\n",
       "</table>\n",
       "</div>"
      ],
      "text/plain": [
       "   MSISDN/Number  session_frequency  session_duration  total_download_traffic  \\\n",
       "0   3.360100e+10                  1       116720140.0            8.426375e+08   \n",
       "1   3.360100e+10                  1       181230963.0            1.207552e+08   \n",
       "2   3.360100e+10                  1       134969374.0            5.566597e+08   \n",
       "3   3.360101e+10                  1        49878024.0            4.019932e+08   \n",
       "4   3.360101e+10                  2        37104453.0            1.363130e+09   \n",
       "5   3.360101e+10                  2       253983077.0            5.552080e+08   \n",
       "6   3.360101e+10                  2       128360523.0            5.530412e+08   \n",
       "7   3.360101e+10                  1        86399977.0            2.940851e+08   \n",
       "8   3.360101e+10                  2       495702147.0            8.965602e+08   \n",
       "9   3.360102e+10                  1       124854778.0            6.853728e+08   \n",
       "\n",
       "   total_upload_traffic  total_traffic  \n",
       "0          3.605311e+07   8.786906e+08  \n",
       "1          3.610446e+07   1.568596e+08  \n",
       "2          3.930682e+07   5.959665e+08  \n",
       "3          2.032753e+07   4.223207e+08  \n",
       "4          9.428053e+07   1.457411e+09  \n",
       "5          6.000925e+07   6.152172e+08  \n",
       "6          6.846015e+07   6.215014e+08  \n",
       "7          3.857528e+07   3.326604e+08  \n",
       "8          9.357202e+07   9.901322e+08  \n",
       "9          4.709101e+07   7.324638e+08  "
      ]
     },
     "execution_count": 33,
     "metadata": {},
     "output_type": "execute_result"
    }
   ],
   "source": [
    "# Calculate engagement metrics\n",
    "engagement_metrics = calculate_engagement_metrics(telecom_data)\n",
    "print(\"Engagement Metrics:\")\n",
    "engagement_metrics.head(10)"
   ]
  },
  {
   "cell_type": "code",
   "execution_count": 36,
   "metadata": {},
   "outputs": [
    {
     "name": "stdout",
     "output_type": "stream",
     "text": [
      "Top 10 Customers by Session Frequency:\n",
      "       MSISDN/Number  session_frequency  session_duration  \\\n",
      "13467   3.362632e+10                 18      2.846937e+09   \n",
      "6404    3.361489e+10                 17      2.522231e+09   \n",
      "13123   3.362578e+10                 17      2.380662e+09   \n",
      "36907   3.365973e+10                 16      3.644357e+09   \n",
      "76074   3.367588e+10                 15      3.036459e+09   \n",
      "92581   3.376054e+10                 15      2.781709e+09   \n",
      "64881   3.366716e+10                 13      1.829397e+09   \n",
      "658     3.360313e+10                 12      2.050984e+09   \n",
      "1270    3.360452e+10                 12      1.684601e+09   \n",
      "13934   3.362708e+10                 12      2.135185e+09   \n",
      "\n",
      "       total_download_traffic  total_upload_traffic  total_traffic  \n",
      "13467            7.301517e+09           669650721.0   7.971167e+09  \n",
      "6404             7.728750e+09           689483001.0   8.418233e+09  \n",
      "13123            7.770043e+09           729577380.0   8.499621e+09  \n",
      "36907            7.081602e+09           624260321.0   7.705863e+09  \n",
      "76074            7.309542e+09           581568792.0   7.891111e+09  \n",
      "92581            7.811295e+09           703478581.0   8.514774e+09  \n",
      "64881            5.052068e+09           566326364.0   5.618394e+09  \n",
      "658              4.540607e+09           435587631.0   4.976195e+09  \n",
      "1270             5.096079e+09           391775856.0   5.487855e+09  \n",
      "13934            5.309479e+09           445251947.0   5.754731e+09  \n",
      "Top 10 Customers by Session Duration:\n",
      "       MSISDN/Number  session_frequency  session_duration  \\\n",
      "36907   3.365973e+10                 16      3.644357e+09   \n",
      "76074   3.367588e+10                 15      3.036459e+09   \n",
      "60121   3.366553e+10                 10      2.949871e+09   \n",
      "57030   3.366471e+10                 11      2.927790e+09   \n",
      "13467   3.362632e+10                 18      2.846937e+09   \n",
      "92581   3.376054e+10                 15      2.781709e+09   \n",
      "39179   3.366027e+10                  9      2.721333e+09   \n",
      "35294   3.365936e+10                 11      2.671861e+09   \n",
      "6404    3.361489e+10                 17      2.522231e+09   \n",
      "97228   3.376233e+10                  9      2.416944e+09   \n",
      "\n",
      "       total_download_traffic  total_upload_traffic  total_traffic  \n",
      "36907            7.081602e+09           624260321.0   7.705863e+09  \n",
      "76074            7.309542e+09           581568792.0   7.891111e+09  \n",
      "60121            4.486999e+09           395857098.0   4.882856e+09  \n",
      "57030            5.984658e+09           471244453.0   6.455902e+09  \n",
      "13467            7.301517e+09           669650721.0   7.971167e+09  \n",
      "92581            7.811295e+09           703478581.0   8.514774e+09  \n",
      "39179            4.379552e+09           429402241.0   4.808954e+09  \n",
      "35294            4.255728e+09           402709429.0   4.658437e+09  \n",
      "6404             7.728750e+09           689483001.0   8.418233e+09  \n",
      "97228            4.486236e+09           408785093.0   4.895021e+09  \n",
      "Top 10 Customers by Total Traffic:\n",
      "       MSISDN/Number  session_frequency  session_duration  \\\n",
      "92581   3.376054e+10                 15      2.781709e+09   \n",
      "13123   3.362578e+10                 17      2.380662e+09   \n",
      "6404    3.361489e+10                 17      2.522231e+09   \n",
      "13467   3.362632e+10                 18      2.846937e+09   \n",
      "76074   3.367588e+10                 15      3.036459e+09   \n",
      "36907   3.365973e+10                 16      3.644357e+09   \n",
      "62802   3.366646e+10                 11      2.103053e+09   \n",
      "86135   3.369879e+10                 11      1.834753e+09   \n",
      "57030   3.366471e+10                 11      2.927790e+09   \n",
      "30590   3.365836e+10                 10      1.686983e+09   \n",
      "\n",
      "       total_download_traffic  total_upload_traffic  total_traffic  \n",
      "92581            7.811295e+09          7.034786e+08   8.514774e+09  \n",
      "13123            7.770043e+09          7.295774e+08   8.499621e+09  \n",
      "6404             7.728750e+09          6.894830e+08   8.418233e+09  \n",
      "13467            7.301517e+09          6.696507e+08   7.971167e+09  \n",
      "76074            7.309542e+09          5.815688e+08   7.891111e+09  \n",
      "36907            7.081602e+09          6.242603e+08   7.705863e+09  \n",
      "62802            6.903440e+09          4.050610e+08   7.308501e+09  \n",
      "86135            6.010556e+09          5.303431e+08   6.540899e+09  \n",
      "57030            5.984658e+09          4.712445e+08   6.455902e+09  \n",
      "30590            5.972303e+09          4.539846e+08   6.426288e+09  \n"
     ]
    }
   ],
   "source": [
    "# Report top 10 customers per engagement metric\n",
    "top_frequency, top_duration, top_traffic = top_customers(engagement_metrics)\n",
    "\n",
    "print(\"Top 10 Customers by Session Frequency:\")\n",
    "print(top_frequency)\n",
    "\n",
    "print(\"Top 10 Customers by Session Duration:\")\n",
    "print(top_duration)\n",
    "\n",
    "print(\"Top 10 Customers by Total Traffic:\")\n",
    "print(top_traffic)"
   ]
  },
  {
   "cell_type": "code",
   "execution_count": 50,
   "metadata": {},
   "outputs": [
    {
     "name": "stdout",
     "output_type": "stream",
     "text": [
      "Index(['normalized_frequency', 'normalized_duration', 'normalized_traffic'], dtype='object')\n"
     ]
    }
   ],
   "source": [
    "# Normalize the metrics\n",
    "normalized_metrics = normalize_metrics(engagement_metrics)\n",
    "print(normalized_metrics.columns)\n",
    "\n"
   ]
  },
  {
   "cell_type": "code",
   "execution_count": 31,
   "metadata": {},
   "outputs": [
    {
     "name": "stdout",
     "output_type": "stream",
     "text": [
      "K-Means Results:\n",
      "   normalized_frequency  normalized_duration  normalized_traffic  cluster\n",
      "0              0.000000             0.030127            0.099680        1\n",
      "1              0.000000             0.047863            0.014574        1\n",
      "2              0.000000             0.035144            0.066346        1\n",
      "3              0.000000             0.011749            0.045873        1\n",
      "4              0.058824             0.008237            0.167913        0\n",
      "5              0.058824             0.067865            0.068616        0\n",
      "6              0.058824             0.033327            0.069357        1\n",
      "7              0.000000             0.021791            0.035302        1\n",
      "8              0.058824             0.134322            0.112820        0\n",
      "9              0.000000             0.032363            0.082440        1\n"
     ]
    }
   ],
   "source": [
    "# Perform K-means clustering\n",
    "clusters = perform_kmeans_clustering(normalized_metrics)\n",
    "print(\"K-Means Results:\")\n",
    "print(clusters.head())"
   ]
  },
  {
   "cell_type": "code",
   "execution_count": 15,
   "metadata": {},
   "outputs": [
    {
     "name": "stdout",
     "output_type": "stream",
     "text": [
      "Cluster Statistics:\n",
      "   cluster  min_frequency  max_frequency  avg_frequency  total_frequency  \\\n",
      "0        0              1              2       1.040936            83990   \n",
      "1        1              2             18       4.256663            17248   \n",
      "2        2              1              4       2.174713            47250   \n",
      "\n",
      "   min_duration  max_duration  avg_duration  total_duration  min_traffic  \\\n",
      "0     7142988.0  4.849145e+08  1.025511e+08    8.274539e+12   33249009.0   \n",
      "1    66595562.0  3.644357e+09  5.220707e+08    2.115430e+12  774219442.0   \n",
      "2    18235797.0  8.270170e+08  2.081157e+08    4.521730e+12  284218230.0   \n",
      "\n",
      "    max_traffic   avg_traffic  total_traffic  \n",
      "0  9.324271e+08  4.915750e+08   3.966371e+13  \n",
      "1  8.514774e+09  2.235753e+09   9.059271e+12  \n",
      "2  2.110991e+09  1.114988e+09   2.422534e+13  \n"
     ]
    }
   ],
   "source": [
    "# Compute cluster statistics\n",
    "cluster_stats = cluster_statistics(engagement_metrics.join(clusters['cluster']))\n",
    "print(\"Cluster Statistics:\")\n",
    "print(cluster_stats)"
   ]
  },
  {
   "cell_type": "code",
   "execution_count": 16,
   "metadata": {},
   "outputs": [
    {
     "name": "stdout",
     "output_type": "stream",
     "text": [
      "\n",
      "Top 10 users for Social Media:\n",
      "   MSISDN/Number  Social Media Total Traffic (Bytes)\n",
      "0   3.362632e+10                        4.337478e+07\n",
      "1   3.376054e+10                        3.975075e+07\n",
      "2   3.365973e+10                        3.541236e+07\n",
      "3   3.361489e+10                        2.829454e+07\n",
      "4   3.362578e+10                        2.710312e+07\n",
      "5   3.366716e+10                        2.424785e+07\n",
      "6   3.378632e+10                        2.397492e+07\n",
      "7   3.366907e+10                        2.380083e+07\n",
      "8   3.360313e+10                        2.307782e+07\n",
      "9   3.365849e+10                        2.300007e+07\n",
      "\n",
      "Top 10 users for Google:\n",
      "   MSISDN/Number  Google Total Traffic (Bytes)\n",
      "0   3.362632e+10                  1.444374e+08\n",
      "1   3.362578e+10                  1.402492e+08\n",
      "2   3.361489e+10                  1.279738e+08\n",
      "3   3.376054e+10                  1.211636e+08\n",
      "4   3.365973e+10                  1.165163e+08\n",
      "5   3.367588e+10                  1.098605e+08\n",
      "6   3.378632e+10                  1.045457e+08\n",
      "7   3.366716e+10                  9.939119e+07\n",
      "8   3.376127e+10                  9.708999e+07\n",
      "9   3.369876e+10                  9.193515e+07\n",
      "\n",
      "Top 10 users for Youtube:\n",
      "   MSISDN/Number  Youtube Total Traffic (Bytes)\n",
      "0   3.362578e+10                   4.421314e+08\n",
      "1   3.361489e+10                   3.943702e+08\n",
      "2   3.376054e+10                   3.848073e+08\n",
      "3   3.362632e+10                   3.744830e+08\n",
      "4   3.367588e+10                   3.174106e+08\n",
      "5   3.366716e+10                   3.152313e+08\n",
      "6   3.369879e+10                   3.026620e+08\n",
      "7   3.362708e+10                   2.978745e+08\n",
      "8   3.376041e+10                   2.921901e+08\n",
      "9   3.360313e+10                   2.840901e+08\n",
      "\n",
      "Top 10 users for Netflix:\n",
      "   MSISDN/Number  Netflix Total Traffic (Bytes)\n",
      "0   3.365973e+10                   3.995191e+08\n",
      "1   3.361489e+10                   3.614010e+08\n",
      "2   3.362578e+10                   3.345509e+08\n",
      "3   3.376054e+10                   3.237296e+08\n",
      "4   3.376041e+10                   3.183475e+08\n",
      "5   3.362632e+10                   3.179268e+08\n",
      "6   3.366716e+10                   3.139395e+08\n",
      "7   3.367588e+10                   3.090932e+08\n",
      "8   3.378632e+10                   2.944517e+08\n",
      "9   3.376127e+10                   2.920913e+08\n",
      "\n",
      "Top 10 users for Gaming:\n",
      "   MSISDN/Number  Gaming Total Traffic (Bytes)\n",
      "0   3.361489e+10                  7.749432e+09\n",
      "1   3.376054e+10                  7.461045e+09\n",
      "2   3.362578e+10                  7.318435e+09\n",
      "3   3.367588e+10                  6.970568e+09\n",
      "4   3.362632e+10                  6.887572e+09\n",
      "5   3.365973e+10                  6.725559e+09\n",
      "6   3.366646e+10                  6.646303e+09\n",
      "7   3.366471e+10                  6.103856e+09\n",
      "8   3.376041e+10                  5.850601e+09\n",
      "9   3.369879e+10                  5.753743e+09\n",
      "\n",
      "Top 10 users for Other:\n",
      "   MSISDN/Number  Other Total Traffic (Bytes)\n",
      "0   3.362632e+10                 8.167878e+09\n",
      "1   3.361489e+10                 7.639264e+09\n",
      "2   3.367588e+10                 6.798515e+09\n",
      "3   3.362578e+10                 6.354583e+09\n",
      "4   3.365973e+10                 6.300934e+09\n",
      "5   3.360313e+10                 5.911443e+09\n",
      "6   3.362695e+10                 5.305448e+09\n",
      "7   3.362708e+10                 5.117791e+09\n",
      "8   3.365836e+10                 5.013651e+09\n",
      "9   3.363004e+10                 4.970701e+09\n"
     ]
    }
   ],
   "source": [
    "top_users_per_app = aggregate_top_users_per_application(telecom_data)\n",
    "\n",
    "# Access top users for a each application\n",
    "\n",
    "# Loop through all applications and print top 10 users\n",
    "for app, top_users in top_users_per_app.items():\n",
    "    print(f\"\\nTop 10 users for {app}:\")\n",
    "    print(top_users)\n",
    "\n",
    "\n"
   ]
  },
  {
   "cell_type": "code",
   "execution_count": 54,
   "metadata": {},
   "outputs": [],
   "source": [
    "%autoreload 2\n"
   ]
  },
  {
   "cell_type": "code",
   "execution_count": 29,
   "metadata": {},
   "outputs": [
    {
     "data": {
      "image/png": "[encoded data removed]",
      "text/plain": [
       "<Figure size 700x600 with 1 Axes>"
      ]
     },
     "metadata": {},
     "output_type": "display_data"
    }
   ],
   "source": [
    "# Plot the top applications\n",
    "plot_top_3_applications(telecom_data)"
   ]
  },
  {
   "cell_type": "code",
   "execution_count": 53,
   "metadata": {},
   "outputs": [
    {
     "data": {
      "image/png": "[encoded data removed]",
      "text/plain": [
       "<Figure size 640x480 with 1 Axes>"
      ]
     },
     "metadata": {},
     "output_type": "display_data"
    }
   ],
   "source": [
    "# Elbow method for optimal k\n",
    "elbow_method(normalized_metrics)"
   ]
  },
  {
   "cell_type": "code",
   "execution_count": 55,
   "metadata": {},
   "outputs": [
    {
     "name": "stdout",
     "output_type": "stream",
     "text": [
      "Cluster Centers:\n",
      "[[0.06925673 0.05542072 0.12784583]\n",
      " [0.00244922 0.02624053 0.05405031]\n",
      " [0.1924038  0.14198643 0.26051531]]\n",
      "\n",
      "First 5 rows with cluster labels:\n",
      "   MSISDN/Number  Cluster\n",
      "0   3.360100e+10        1\n",
      "1   3.360100e+10        1\n",
      "2   3.360100e+10        1\n",
      "3   3.360101e+10        1\n",
      "4   3.360101e+10        0\n"
     ]
    },
    {
     "data": {
      "image/png": "[encoded data removed]",
      "text/plain": [
       "<Figure size 800x600 with 2 Axes>"
      ]
     },
     "metadata": {},
     "output_type": "display_data"
    }
   ],
   "source": [
    "\n",
    "\n",
    "# Normalize and apply k-means\n",
    "#normalized_metrics = normalized_data.copy()\n",
    "normalized_metrics['MSISDN/Number'] = engagement_metrics['MSISDN/Number'].values  # Add this line\n",
    "\n",
    "\n",
    "# Assign cluster labels to normalized_metrics\n",
    "#normalized_metrics['Cluster'] = kmeans.labels_\n",
    "\n",
    "# Optimal k from the elbow method\n",
    "optimal_k = 3  \n",
    "\n",
    "# Apply K-Means clustering\n",
    "normalized_metrics, cluster_centers = apply_kmeans_clustering(normalized_metrics, optimal_k)\n",
    "\n",
    "# Show the cluster centers and the assigned cluster labels\n",
    "print(\"Cluster Centers:\")\n",
    "print(cluster_centers)\n",
    "\n",
    "print(\"\\nFirst 5 rows with cluster labels:\")\n",
    "print(normalized_metrics[['MSISDN/Number', 'Cluster']].head())\n",
    "\n",
    "# Visualize the clusters\n",
    "visualize_clusters(normalized_metrics, 'normalized_frequency', 'normalized_duration')\n"
   ]
  }
 ],
 "metadata": {
  "kernelspec": {
   "display_name": "week-2",
   "language": "python",
   "name": "python3"
  },
  "language_info": {
   "codemirror_mode": {
    "name": "ipython",
    "version": 3
   },
   "file_extension": ".py",
   "mimetype": "text/x-python",
   "name": "python",
   "nbconvert_exporter": "python",
   "pygments_lexer": "ipython3",
   "version": "3.10.0"
  }
 },
 "nbformat": 4,
 "nbformat_minor": 2
}
