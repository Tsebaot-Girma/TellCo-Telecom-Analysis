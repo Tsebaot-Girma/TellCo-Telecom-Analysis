{
 "cells": [
  {
   "cell_type": "code",
   "execution_count": 10,
   "metadata": {},
   "outputs": [],
   "source": [
    "from dotenv import load_dotenv\n",
    "import pandas as pd\n",
    "import matplotlib.pyplot as plt\n",
    "import seaborn as sns\n",
    "import numpy as np\n",
    "import os\n",
    "import sys\n",
    "sys.path.append(\"../scripts/\")  # Add the scripts folder to the path\n",
    "from load_data import load_data_from_postgres, load_data_using_sqlalchemy\n",
    "from data_preprocessing import clean_data, handle_outliers\n",
    "from data_transform import convert_bytes_to_mb, rename_columns\n",
    "from engagement_metrics import calculate_engagement_metrics, normalize_metrics"
   ]
  },
  {
   "cell_type": "code",
   "execution_count": 11,
   "metadata": {},
   "outputs": [],
   "source": [
    "# Load environment variables from .env file\n",
    "load_dotenv()\n",
    "\n",
    "# Fetch database connection parameters from environment variables\n",
    "DB_HOST = os.getenv(\"DB_HOST\")\n",
    "DB_PORT = os.getenv(\"DB_PORT\")\n",
    "DB_NAME = os.getenv(\"DB_NAME\")\n",
    "DB_USER = os.getenv(\"DB_USER\")\n",
    "DB_PASSWORD = os.getenv(\"DB_PASSWORD\")"
   ]
  },
  {
   "cell_type": "code",
   "execution_count": 12,
   "metadata": {},
   "outputs": [
    {
     "name": "stdout",
     "output_type": "stream",
     "text": [
      "Successfully loaded the data\n"
     ]
    }
   ],
   "source": [
    "# Define your SQL query\n",
    "query = \"SELECT * FROM xdr_data;\"\n",
    "\n",
    "# Load data from PostgreSQL using SQLAlchemy\n",
    "df = load_data_using_sqlalchemy(query)\n",
    "\n",
    "# Display the first few rows of the dataframe\n",
    "if df is not None:\n",
    "    print(\"Successfully loaded the data\")\n",
    "else:\n",
    "    print(\"Failed to load data.\")"
   ]
  },
  {
   "cell_type": "code",
   "execution_count": 13,
   "metadata": {},
   "outputs": [
    {
     "name": "stdout",
     "output_type": "stream",
     "text": [
      "<class 'pandas.core.frame.DataFrame'>\n",
      "Index: 148488 entries, 0 to 149999\n",
      "Data columns (total 44 columns):\n",
      " #   Column                          Non-Null Count   Dtype         \n",
      "---  ------                          --------------   -----         \n",
      " 0   Bearer Id                       148488 non-null  object        \n",
      " 1   Start                           148488 non-null  datetime64[ns]\n",
      " 2   Start ms                        148488 non-null  float64       \n",
      " 3   End                             148488 non-null  datetime64[ns]\n",
      " 4   End ms                          148488 non-null  float64       \n",
      " 5   IMSI                            148488 non-null  object        \n",
      " 6   MSISDN/Number                   148488 non-null  object        \n",
      " 7   IMEI                            148488 non-null  object        \n",
      " 8   Last Location Name              148488 non-null  category      \n",
      " 9   Avg RTT DL (ms)                 148488 non-null  float64       \n",
      " 10  Avg RTT UL (ms)                 148488 non-null  float64       \n",
      " 11  Avg Bearer TP DL (kbps)         148488 non-null  float64       \n",
      " 12  Avg Bearer TP UL (kbps)         148488 non-null  float64       \n",
      " 13  DL TP < 50 Kbps (%)             148488 non-null  float64       \n",
      " 14  50 Kbps < DL TP < 250 Kbps (%)  148488 non-null  float64       \n",
      " 15  250 Kbps < DL TP < 1 Mbps (%)   148488 non-null  float64       \n",
      " 16  DL TP > 1 Mbps (%)              148488 non-null  float64       \n",
      " 17  UL TP < 10 Kbps (%)             148488 non-null  float64       \n",
      " 18  10 Kbps < UL TP < 50 Kbps (%)   148488 non-null  float64       \n",
      " 19  50 Kbps < UL TP < 300 Kbps (%)  148488 non-null  float64       \n",
      " 20  UL TP > 300 Kbps (%)            148488 non-null  float64       \n",
      " 21  Activity Duration DL (ms)       148488 non-null  float64       \n",
      " 22  Activity Duration UL (ms)       148488 non-null  float64       \n",
      " 23  Dur. (ms).1                     148488 non-null  float64       \n",
      " 24  Handset Manufacturer            148488 non-null  category      \n",
      " 25  Handset Type                    148488 non-null  category      \n",
      " 26  Nb of sec with Vol DL < 6250B   148488 non-null  float64       \n",
      " 27  Nb of sec with Vol UL < 1250B   148488 non-null  float64       \n",
      " 28  Social Media DL (Bytes)         148488 non-null  float64       \n",
      " 29  Social Media UL (Bytes)         148488 non-null  float64       \n",
      " 30  Google DL (Bytes)               148488 non-null  float64       \n",
      " 31  Google UL (Bytes)               148488 non-null  float64       \n",
      " 32  Email DL (Bytes)                148488 non-null  float64       \n",
      " 33  Email UL (Bytes)                148488 non-null  float64       \n",
      " 34  Youtube DL (Bytes)              148488 non-null  float64       \n",
      " 35  Youtube UL (Bytes)              148488 non-null  float64       \n",
      " 36  Netflix DL (Bytes)              148488 non-null  float64       \n",
      " 37  Netflix UL (Bytes)              148488 non-null  float64       \n",
      " 38  Gaming DL (Bytes)               148488 non-null  float64       \n",
      " 39  Gaming UL (Bytes)               148488 non-null  float64       \n",
      " 40  Other DL (Bytes)                148488 non-null  float64       \n",
      " 41  Other UL (Bytes)                148488 non-null  float64       \n",
      " 42  Total UL (Bytes)                148488 non-null  float64       \n",
      " 43  Total DL (Bytes)                148488 non-null  float64       \n",
      "dtypes: category(3), datetime64[ns](2), float64(35), object(4)\n",
      "memory usage: 50.1+ MB\n",
      "None\n",
      "Bearer Id                         0\n",
      "Start                             0\n",
      "Start ms                          0\n",
      "End                               0\n",
      "End ms                            0\n",
      "IMSI                              0\n",
      "MSISDN/Number                     0\n",
      "IMEI                              0\n",
      "Last Location Name                0\n",
      "Avg RTT DL (ms)                   0\n",
      "Avg RTT UL (ms)                   0\n",
      "Avg Bearer TP DL (kbps)           0\n",
      "Avg Bearer TP UL (kbps)           0\n",
      "DL TP < 50 Kbps (%)               0\n",
      "50 Kbps < DL TP < 250 Kbps (%)    0\n",
      "250 Kbps < DL TP < 1 Mbps (%)     0\n",
      "DL TP > 1 Mbps (%)                0\n",
      "UL TP < 10 Kbps (%)               0\n",
      "10 Kbps < UL TP < 50 Kbps (%)     0\n",
      "50 Kbps < UL TP < 300 Kbps (%)    0\n",
      "UL TP > 300 Kbps (%)              0\n",
      "Activity Duration DL (ms)         0\n",
      "Activity Duration UL (ms)         0\n",
      "Dur. (ms).1                       0\n",
      "Handset Manufacturer              0\n",
      "Handset Type                      0\n",
      "Nb of sec with Vol DL < 6250B     0\n",
      "Nb of sec with Vol UL < 1250B     0\n",
      "Social Media DL (Bytes)           0\n",
      "Social Media UL (Bytes)           0\n",
      "Google DL (Bytes)                 0\n",
      "Google UL (Bytes)                 0\n",
      "Email DL (Bytes)                  0\n",
      "Email UL (Bytes)                  0\n",
      "Youtube DL (Bytes)                0\n",
      "Youtube UL (Bytes)                0\n",
      "Netflix DL (Bytes)                0\n",
      "Netflix UL (Bytes)                0\n",
      "Gaming DL (Bytes)                 0\n",
      "Gaming UL (Bytes)                 0\n",
      "Other DL (Bytes)                  0\n",
      "Other UL (Bytes)                  0\n",
      "Total UL (Bytes)                  0\n",
      "Total DL (Bytes)                  0\n",
      "dtype: int64\n",
      "(148488, 44)\n"
     ]
    }
   ],
   "source": [
    "telecom_data = clean_data(df)\n",
    "print(telecom_data.info())\n",
    "print(telecom_data.isnull().sum())  # Ensure there are no missing values\n",
    "print(telecom_data.shape)          # Check the shape matches (148915, 44)\n"
   ]
  },
  {
   "cell_type": "code",
   "execution_count": 14,
   "metadata": {},
   "outputs": [],
   "source": [
    "# Select numeric columns\n",
    "numeric_columns = telecom_data.select_dtypes(include=['float64', 'int64']).columns\n",
    "\n",
    "# Treat outliers using the handle_outliers function\n",
    "telecom_data = handle_outliers(telecom_data, numeric_columns)\n"
   ]
  },
  {
   "cell_type": "code",
   "execution_count": 17,
   "metadata": {},
   "outputs": [
    {
     "name": "stdout",
     "output_type": "stream",
     "text": [
      "Index(['Bearer Id', 'Start', 'Start ms', 'End', 'End ms', 'Dur. (ms)', 'IMSI',\n",
      "       'MSISDN/Number', 'IMEI', 'Last Location Name', 'Avg RTT DL (ms)',\n",
      "       'Avg RTT UL (ms)', 'Avg Bearer TP DL (kbps)', 'Avg Bearer TP UL (kbps)',\n",
      "       'TCP DL Retrans. Vol (Bytes)', 'TCP UL Retrans. Vol (Bytes)',\n",
      "       'DL TP < 50 Kbps (%)', '50 Kbps < DL TP < 250 Kbps (%)',\n",
      "       '250 Kbps < DL TP < 1 Mbps (%)', 'DL TP > 1 Mbps (%)',\n",
      "       'UL TP < 10 Kbps (%)', '10 Kbps < UL TP < 50 Kbps (%)',\n",
      "       '50 Kbps < UL TP < 300 Kbps (%)', 'UL TP > 300 Kbps (%)',\n",
      "       'HTTP DL (Bytes)', 'HTTP UL (Bytes)', 'Activity Duration DL (ms)',\n",
      "       'Activity Duration UL (ms)', 'Dur. (ms).1', 'Handset Manufacturer',\n",
      "       'Handset Type', 'Nb of sec with 125000B < Vol DL',\n",
      "       'Nb of sec with 1250B < Vol UL < 6250B',\n",
      "       'Nb of sec with 31250B < Vol DL < 125000B',\n",
      "       'Nb of sec with 37500B < Vol UL',\n",
      "       'Nb of sec with 6250B < Vol DL < 31250B',\n",
      "       'Nb of sec with 6250B < Vol UL < 37500B',\n",
      "       'Nb of sec with Vol DL < 6250B', 'Nb of sec with Vol UL < 1250B',\n",
      "       'Social Media DL (Bytes)', 'Social Media UL (Bytes)',\n",
      "       'Google DL (Bytes)', 'Google UL (Bytes)', 'Email DL (Bytes)',\n",
      "       'Email UL (Bytes)', 'Youtube DL (Bytes)', 'Youtube UL (Bytes)',\n",
      "       'Netflix DL (Bytes)', 'Netflix UL (Bytes)', 'Gaming DL (Bytes)',\n",
      "       'Gaming UL (Bytes)', 'Other DL (Bytes)', 'Other UL (Bytes)',\n",
      "       'Total UL (Bytes)', 'Total DL (Bytes)'],\n",
      "      dtype='object')\n"
     ]
    }
   ],
   "source": [
    "# Define the renaming dictionary\n",
    "rename_dict = {'Dur. (ms).1': 'Dur. (ms)'}\n",
    "\n",
    "# Rename columns using the rename_columns function\n",
    "telecom_data = rename_columns(telecom_data, rename_dict)\n",
    "\n",
    "# Verify the column names\n",
    "print(df.columns)\n"
   ]
  }
 ],
 "metadata": {
  "kernelspec": {
   "display_name": "week-2",
   "language": "python",
   "name": "python3"
  },
  "language_info": {
   "codemirror_mode": {
    "name": "ipython",
    "version": 3
   },
   "file_extension": ".py",
   "mimetype": "text/x-python",
   "name": "python",
   "nbconvert_exporter": "python",
   "pygments_lexer": "ipython3",
   "version": "3.10.0"
  }
 },
 "nbformat": 4,
 "nbformat_minor": 2
}
