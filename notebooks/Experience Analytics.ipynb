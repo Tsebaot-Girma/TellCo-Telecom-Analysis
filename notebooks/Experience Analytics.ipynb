{
 "cells": [
  {
   "cell_type": "code",
   "execution_count": 8,
   "metadata": {},
   "outputs": [
    {
     "name": "stdout",
     "output_type": "stream",
     "text": [
      "The autoreload extension is already loaded. To reload it, use:\n",
      "  %reload_ext autoreload\n"
     ]
    }
   ],
   "source": [
    "%load_ext autoreload\n",
    "\n",
    "from dotenv import load_dotenv\n",
    "import pandas as pd\n",
    "import matplotlib.pyplot as plt\n",
    "import seaborn as sns\n",
    "import numpy as np\n",
    "import os\n",
    "import sys\n",
    "sys.path.append(\"../scripts/\")  # Add the scripts folder to the path\n",
    "from load_data import load_data_from_postgres, load_data_using_sqlalchemy\n",
    "from data_preprocessing import clean_data, handle_outliers\n",
    "from data_transform import convert_bytes_to_mb, rename_columns\n"
   ]
  },
  {
   "cell_type": "code",
   "execution_count": 16,
   "metadata": {},
   "outputs": [
    {
     "name": "stderr",
     "output_type": "stream",
     "text": [
      "[autoreload of data_preprocessing failed: Traceback (most recent call last):\n",
      "  File \"c:\\Users\\Tsebaot\\Desktop\\week 2\\TellCo-Telecom-Analysis\\week-2\\lib\\site-packages\\IPython\\extensions\\autoreload.py\", line 276, in check\n",
      "    superreload(m, reload, self.old_objects)\n",
      "  File \"c:\\Users\\Tsebaot\\Desktop\\week 2\\TellCo-Telecom-Analysis\\week-2\\lib\\site-packages\\IPython\\extensions\\autoreload.py\", line 475, in superreload\n",
      "    module = reload(module)\n",
      "  File \"C:\\Users\\Tsebaot\\AppData\\Local\\Programs\\Python\\Python310\\lib\\importlib\\__init__.py\", line 169, in reload\n",
      "    _bootstrap._exec(spec, module)\n",
      "  File \"<frozen importlib._bootstrap>\", line 619, in _exec\n",
      "  File \"<frozen importlib._bootstrap_external>\", line 879, in exec_module\n",
      "  File \"<frozen importlib._bootstrap_external>\", line 1017, in get_code\n",
      "  File \"<frozen importlib._bootstrap_external>\", line 947, in source_to_code\n",
      "  File \"<frozen importlib._bootstrap>\", line 241, in _call_with_frames_removed\n",
      "  File \"c:\\Users\\Tsebaot\\Desktop\\week 2\\TellCo-Telecom-Analysis\\notebooks\\../scripts\\data_preprocessing.py\", line 48\n",
      "    df.fillna(df.mean(numeric_only=True), inplace=True)\n",
      "IndentationError: unexpected indent\n",
      "]\n"
     ]
    }
   ],
   "source": [
    "%autoreload 2"
   ]
  },
  {
   "cell_type": "code",
   "execution_count": 10,
   "metadata": {},
   "outputs": [],
   "source": [
    "# Load environment variables from .env file\n",
    "load_dotenv()\n",
    "\n",
    "# Fetch database connection parameters from environment variables\n",
    "DB_HOST = os.getenv(\"DB_HOST\")\n",
    "DB_PORT = os.getenv(\"DB_PORT\")\n",
    "DB_NAME = os.getenv(\"DB_NAME\")\n",
    "DB_USER = os.getenv(\"DB_USER\")\n",
    "DB_PASSWORD = os.getenv(\"DB_PASSWORD\")"
   ]
  },
  {
   "cell_type": "code",
   "execution_count": 11,
   "metadata": {},
   "outputs": [
    {
     "name": "stdout",
     "output_type": "stream",
     "text": [
      "Successfully loaded the data\n"
     ]
    }
   ],
   "source": [
    "# Define your SQL query\n",
    "query = \"SELECT * FROM xdr_data;\"\n",
    "\n",
    "# Load data from PostgreSQL using SQLAlchemy\n",
    "df = load_data_using_sqlalchemy(query)\n",
    "\n",
    "# Display the first few rows of the dataframe\n",
    "if df is not None:\n",
    "    print(\"Successfully loaded the data\")\n",
    "else:\n",
    "    print(\"Failed to load data.\")"
   ]
  },
  {
   "cell_type": "code",
   "execution_count": 12,
   "metadata": {},
   "outputs": [
    {
     "name": "stdout",
     "output_type": "stream",
     "text": [
      "<class 'pandas.core.frame.DataFrame'>\n",
      "Index: 148488 entries, 0 to 149999\n",
      "Data columns (total 46 columns):\n",
      " #   Column                          Non-Null Count   Dtype         \n",
      "---  ------                          --------------   -----         \n",
      " 0   Bearer Id                       148488 non-null  object        \n",
      " 1   Start                           148488 non-null  datetime64[ns]\n",
      " 2   Start ms                        148488 non-null  float64       \n",
      " 3   End                             148488 non-null  datetime64[ns]\n",
      " 4   End ms                          148488 non-null  float64       \n",
      " 5   IMSI                            148488 non-null  object        \n",
      " 6   MSISDN/Number                   148488 non-null  object        \n",
      " 7   IMEI                            148488 non-null  object        \n",
      " 8   Last Location Name              148488 non-null  category      \n",
      " 9   Avg RTT DL (ms)                 148488 non-null  float64       \n",
      " 10  Avg RTT UL (ms)                 148488 non-null  float64       \n",
      " 11  Avg Bearer TP DL (kbps)         148488 non-null  float64       \n",
      " 12  Avg Bearer TP UL (kbps)         148488 non-null  float64       \n",
      " 13  TCP DL Retrans. Vol (Bytes)     148488 non-null  float64       \n",
      " 14  TCP UL Retrans. Vol (Bytes)     148488 non-null  float64       \n",
      " 15  DL TP < 50 Kbps (%)             148488 non-null  float64       \n",
      " 16  50 Kbps < DL TP < 250 Kbps (%)  148488 non-null  float64       \n",
      " 17  250 Kbps < DL TP < 1 Mbps (%)   148488 non-null  float64       \n",
      " 18  DL TP > 1 Mbps (%)              148488 non-null  float64       \n",
      " 19  UL TP < 10 Kbps (%)             148488 non-null  float64       \n",
      " 20  10 Kbps < UL TP < 50 Kbps (%)   148488 non-null  float64       \n",
      " 21  50 Kbps < UL TP < 300 Kbps (%)  148488 non-null  float64       \n",
      " 22  UL TP > 300 Kbps (%)            148488 non-null  float64       \n",
      " 23  Activity Duration DL (ms)       148488 non-null  float64       \n",
      " 24  Activity Duration UL (ms)       148488 non-null  float64       \n",
      " 25  Dur. (ms).1                     148488 non-null  float64       \n",
      " 26  Handset Manufacturer            148488 non-null  category      \n",
      " 27  Handset Type                    148488 non-null  category      \n",
      " 28  Nb of sec with Vol DL < 6250B   148488 non-null  float64       \n",
      " 29  Nb of sec with Vol UL < 1250B   148488 non-null  float64       \n",
      " 30  Social Media DL (Bytes)         148488 non-null  float64       \n",
      " 31  Social Media UL (Bytes)         148488 non-null  float64       \n",
      " 32  Google DL (Bytes)               148488 non-null  float64       \n",
      " 33  Google UL (Bytes)               148488 non-null  float64       \n",
      " 34  Email DL (Bytes)                148488 non-null  float64       \n",
      " 35  Email UL (Bytes)                148488 non-null  float64       \n",
      " 36  Youtube DL (Bytes)              148488 non-null  float64       \n",
      " 37  Youtube UL (Bytes)              148488 non-null  float64       \n",
      " 38  Netflix DL (Bytes)              148488 non-null  float64       \n",
      " 39  Netflix UL (Bytes)              148488 non-null  float64       \n",
      " 40  Gaming DL (Bytes)               148488 non-null  float64       \n",
      " 41  Gaming UL (Bytes)               148488 non-null  float64       \n",
      " 42  Other DL (Bytes)                148488 non-null  float64       \n",
      " 43  Other UL (Bytes)                148488 non-null  float64       \n",
      " 44  Total UL (Bytes)                148488 non-null  float64       \n",
      " 45  Total DL (Bytes)                148488 non-null  float64       \n",
      "dtypes: category(3), datetime64[ns](2), float64(37), object(4)\n",
      "memory usage: 52.4+ MB\n",
      "None\n",
      "Bearer Id                         0\n",
      "Start                             0\n",
      "Start ms                          0\n",
      "End                               0\n",
      "End ms                            0\n",
      "IMSI                              0\n",
      "MSISDN/Number                     0\n",
      "IMEI                              0\n",
      "Last Location Name                0\n",
      "Avg RTT DL (ms)                   0\n",
      "Avg RTT UL (ms)                   0\n",
      "Avg Bearer TP DL (kbps)           0\n",
      "Avg Bearer TP UL (kbps)           0\n",
      "TCP DL Retrans. Vol (Bytes)       0\n",
      "TCP UL Retrans. Vol (Bytes)       0\n",
      "DL TP < 50 Kbps (%)               0\n",
      "50 Kbps < DL TP < 250 Kbps (%)    0\n",
      "250 Kbps < DL TP < 1 Mbps (%)     0\n",
      "DL TP > 1 Mbps (%)                0\n",
      "UL TP < 10 Kbps (%)               0\n",
      "10 Kbps < UL TP < 50 Kbps (%)     0\n",
      "50 Kbps < UL TP < 300 Kbps (%)    0\n",
      "UL TP > 300 Kbps (%)              0\n",
      "Activity Duration DL (ms)         0\n",
      "Activity Duration UL (ms)         0\n",
      "Dur. (ms).1                       0\n",
      "Handset Manufacturer              0\n",
      "Handset Type                      0\n",
      "Nb of sec with Vol DL < 6250B     0\n",
      "Nb of sec with Vol UL < 1250B     0\n",
      "Social Media DL (Bytes)           0\n",
      "Social Media UL (Bytes)           0\n",
      "Google DL (Bytes)                 0\n",
      "Google UL (Bytes)                 0\n",
      "Email DL (Bytes)                  0\n",
      "Email UL (Bytes)                  0\n",
      "Youtube DL (Bytes)                0\n",
      "Youtube UL (Bytes)                0\n",
      "Netflix DL (Bytes)                0\n",
      "Netflix UL (Bytes)                0\n",
      "Gaming DL (Bytes)                 0\n",
      "Gaming UL (Bytes)                 0\n",
      "Other DL (Bytes)                  0\n",
      "Other UL (Bytes)                  0\n",
      "Total UL (Bytes)                  0\n",
      "Total DL (Bytes)                  0\n",
      "dtype: int64\n",
      "(148488, 46)\n"
     ]
    }
   ],
   "source": [
    "telecom_data = clean_data(df)\n",
    "print(telecom_data.info())\n",
    "print(telecom_data.isnull().sum())  \n",
    "print(telecom_data.shape)         \n"
   ]
  },
  {
   "cell_type": "code",
   "execution_count": 13,
   "metadata": {},
   "outputs": [],
   "source": [
    "# Select numeric columns\n",
    "numeric_columns = telecom_data.select_dtypes(include=['float64', 'int64']).columns\n",
    "\n",
    "# Treat outliers using the handle_outliers function\n",
    "telecom_data = handle_outliers(telecom_data, numeric_columns)\n"
   ]
  },
  {
   "cell_type": "code",
   "execution_count": 14,
   "metadata": {},
   "outputs": [
    {
     "name": "stdout",
     "output_type": "stream",
     "text": [
      "Index(['Bearer Id', 'Start', 'Start ms', 'End', 'End ms', 'IMSI',\n",
      "       'MSISDN/Number', 'IMEI', 'Last Location Name', 'Avg RTT DL (ms)',\n",
      "       'Avg RTT UL (ms)', 'Avg Bearer TP DL (kbps)', 'Avg Bearer TP UL (kbps)',\n",
      "       'TCP DL Retrans. Vol (Bytes)', 'TCP UL Retrans. Vol (Bytes)',\n",
      "       'DL TP < 50 Kbps (%)', '50 Kbps < DL TP < 250 Kbps (%)',\n",
      "       '250 Kbps < DL TP < 1 Mbps (%)', 'DL TP > 1 Mbps (%)',\n",
      "       'UL TP < 10 Kbps (%)', '10 Kbps < UL TP < 50 Kbps (%)',\n",
      "       '50 Kbps < UL TP < 300 Kbps (%)', 'UL TP > 300 Kbps (%)',\n",
      "       'Activity Duration DL (ms)', 'Activity Duration UL (ms)', 'Dur. (ms)',\n",
      "       'Handset Manufacturer', 'Handset Type', 'Nb of sec with Vol DL < 6250B',\n",
      "       'Nb of sec with Vol UL < 1250B', 'Social Media DL (Bytes)',\n",
      "       'Social Media UL (Bytes)', 'Google DL (Bytes)', 'Google UL (Bytes)',\n",
      "       'Email DL (Bytes)', 'Email UL (Bytes)', 'Youtube DL (Bytes)',\n",
      "       'Youtube UL (Bytes)', 'Netflix DL (Bytes)', 'Netflix UL (Bytes)',\n",
      "       'Gaming DL (Bytes)', 'Gaming UL (Bytes)', 'Other DL (Bytes)',\n",
      "       'Other UL (Bytes)', 'Total UL (Bytes)', 'Total DL (Bytes)'],\n",
      "      dtype='object')\n"
     ]
    }
   ],
   "source": [
    "# Define the renaming dictionary\n",
    "rename_dict = {'Dur. (ms).1': 'Dur. (ms)'}\n",
    "\n",
    "# Rename columns using the rename_columns function\n",
    "telecom_data = rename_columns(telecom_data, rename_dict)\n",
    "\n",
    "# Verify the column names\n",
    "print(telecom_data.columns)\n"
   ]
  },
  {
   "cell_type": "code",
   "execution_count": 15,
   "metadata": {},
   "outputs": [
    {
     "data": {
      "text/plain": [
       "Bearer Id                                      991\n",
       "Start                                            1\n",
       "Start ms                                         1\n",
       "End                                              1\n",
       "End ms                                           1\n",
       "Dur. (ms)                                        1\n",
       "IMSI                                           570\n",
       "MSISDN/Number                                 1066\n",
       "IMEI                                           572\n",
       "Last Location Name                            1153\n",
       "Avg RTT DL (ms)                              27829\n",
       "Avg RTT UL (ms)                              27812\n",
       "Avg Bearer TP DL (kbps)                          1\n",
       "Avg Bearer TP UL (kbps)                          1\n",
       "TCP DL Retrans. Vol (Bytes)                  88146\n",
       "TCP UL Retrans. Vol (Bytes)                  96649\n",
       "DL TP < 50 Kbps (%)                            754\n",
       "50 Kbps < DL TP < 250 Kbps (%)                 754\n",
       "250 Kbps < DL TP < 1 Mbps (%)                  754\n",
       "DL TP > 1 Mbps (%)                             754\n",
       "UL TP < 10 Kbps (%)                            792\n",
       "10 Kbps < UL TP < 50 Kbps (%)                  792\n",
       "50 Kbps < UL TP < 300 Kbps (%)                 792\n",
       "UL TP > 300 Kbps (%)                           792\n",
       "HTTP DL (Bytes)                              81474\n",
       "HTTP UL (Bytes)                              81810\n",
       "Activity Duration DL (ms)                        1\n",
       "Activity Duration UL (ms)                        1\n",
       "Dur. (ms).1                                      1\n",
       "Handset Manufacturer                           572\n",
       "Handset Type                                   572\n",
       "Nb of sec with 125000B < Vol DL              97538\n",
       "Nb of sec with 1250B < Vol UL < 6250B        92894\n",
       "Nb of sec with 31250B < Vol DL < 125000B     93586\n",
       "Nb of sec with 37500B < Vol UL              130254\n",
       "Nb of sec with 6250B < Vol DL < 31250B       88317\n",
       "Nb of sec with 6250B < Vol UL < 37500B      111843\n",
       "Nb of sec with Vol DL < 6250B                  755\n",
       "Nb of sec with Vol UL < 1250B                  793\n",
       "Social Media DL (Bytes)                          0\n",
       "Social Media UL (Bytes)                          0\n",
       "Google DL (Bytes)                                0\n",
       "Google UL (Bytes)                                0\n",
       "Email DL (Bytes)                                 0\n",
       "Email UL (Bytes)                                 0\n",
       "Youtube DL (Bytes)                               0\n",
       "Youtube UL (Bytes)                               0\n",
       "Netflix DL (Bytes)                               0\n",
       "Netflix UL (Bytes)                               0\n",
       "Gaming DL (Bytes)                                0\n",
       "Gaming UL (Bytes)                                0\n",
       "Other DL (Bytes)                                 0\n",
       "Other UL (Bytes)                                 0\n",
       "Total UL (Bytes)                                 1\n",
       "Total DL (Bytes)                                 1\n",
       "dtype: int64"
      ]
     },
     "execution_count": 15,
     "metadata": {},
     "output_type": "execute_result"
    }
   ],
   "source": [
    "# Check for missing values\n",
    "df.isnull().sum()"
   ]
  }
 ],
 "metadata": {
  "kernelspec": {
   "display_name": "week-2",
   "language": "python",
   "name": "python3"
  },
  "language_info": {
   "codemirror_mode": {
    "name": "ipython",
    "version": 3
   },
   "file_extension": ".py",
   "mimetype": "text/x-python",
   "name": "python",
   "nbconvert_exporter": "python",
   "pygments_lexer": "ipython3",
   "version": "3.10.0"
  }
 },
 "nbformat": 4,
 "nbformat_minor": 2
}
